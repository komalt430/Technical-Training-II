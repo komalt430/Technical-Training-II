{
  "nbformat": 4,
  "nbformat_minor": 0,
  "metadata": {
    "colab": {
      "provenance": []
    },
    "kernelspec": {
      "name": "python3",
      "display_name": "Python 3"
    },
    "language_info": {
      "name": "python"
    }
  },
  "cells": [
    {
      "cell_type": "markdown",
      "source": [
        "Aim: Delivering Boxes from Storage to Ports\n"
      ],
      "metadata": {
        "id": "-h0db3F-IcwG"
      }
    },
    {
      "cell_type": "markdown",
      "source": [
        "Objective:  You have the task of delivering some boxes from storage to their ports using only one ship. However, this ship has a limit on the number of boxes and the total weight that it can carry.\n",
        "\n"
      ],
      "metadata": {
        "id": "I7t6FTchIjBu"
      }
    },
    {
      "cell_type": "code",
      "source": [
        "class Box:\n",
        "    def __init__(self, boxes, port):\n",
        "        self.boxes = boxes\n",
        "        self.port = port\n",
        "\n",
        "def min_trips(boxes, ports_count, max_boxes, max_weight):\n",
        "    boxes_size = len(boxes)\n",
        "    dp = [float('inf')] * (boxes_size + 1)  # Initialize dp array with infinity\n",
        "    port_visited = [0] * (ports_count + 1)  # To track visits to each port\n",
        "    dp[0] = 0  # Base case: 0 trips needed for 0 boxes\n",
        "\n",
        "    total_weight = total_boxes = start = 0\n",
        "\n",
        "    for end in range(1, boxes_size + 1):\n",
        "        total_weight += boxes[end - 1].boxes\n",
        "        total_boxes += 1\n",
        "        port_visited[boxes[end - 1].port] += 1\n",
        "\n",
        "        # Ensure constraints are met\n",
        "        while total_boxes > max_boxes or total_weight > max_weight or (start < end and port_visited[boxes[start].port] > 1):\n",
        "            total_weight -= boxes[start].boxes\n",
        "            total_boxes -= 1\n",
        "            port_visited[boxes[start].port] -= 1\n",
        "            start += 1\n",
        "\n",
        "        trips = dp[start] + 2  # +1 for the trip to this batch and +1 for the return trip\n",
        "        if end < boxes_size and boxes[end - 1].port == boxes[end].port:\n",
        "            trips -= 1  # If the next box is to the same port, no need to return in between\n",
        "\n",
        "        dp[end] = min(dp[end], trips)  # Update dp with the minimum trips\n",
        "\n",
        "    return dp[boxes_size]  # Minimum trips to deliver all boxes\n",
        "\n",
        "# Create list of boxes with weights and ports\n",
        "boxes = [Box(1, 1), Box(2, 1), Box(1, 2), Box(2, 2), Box(3, 3)]\n",
        "result = min_trips(boxes, 3, 5, 6)  # Call min_trips with given parameters\n",
        "print(f\"Minimum number of trips: {result}\")  # Print the result\n"
      ],
      "metadata": {
        "colab": {
          "base_uri": "https://localhost:8080/"
        },
        "id": "i5ialH1ZIkJj",
        "outputId": "8822c739-b187-4235-d985-739d37da7101"
      },
      "execution_count": 1,
      "outputs": [
        {
          "output_type": "stream",
          "name": "stdout",
          "text": [
            "Minimum number of trips: 4\n"
          ]
        }
      ]
    }
  ]
}