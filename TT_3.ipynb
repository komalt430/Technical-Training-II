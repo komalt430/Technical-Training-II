{
  "nbformat": 4,
  "nbformat_minor": 0,
  "metadata": {
    "colab": {
      "provenance": []
    },
    "kernelspec": {
      "name": "python3",
      "display_name": "Python 3"
    },
    "language_info": {
      "name": "python"
    }
  },
  "cells": [
    {
      "cell_type": "markdown",
      "source": [
        "Aim: Flattening a Multilevel Doubly Linked List"
      ],
      "metadata": {
        "id": "5rpgsk45BmBj"
      }
    },
    {
      "cell_type": "markdown",
      "source": [
        "Objective:  This approach ensures that the multilevel doubly linked list is flattened into a single-level list while maintaining the correct order of nodes.\n",
        "\n"
      ],
      "metadata": {
        "id": "wehPhD6eBm61"
      }
    },
    {
      "cell_type": "code",
      "source": [
        "class Node:\n",
        "    def __init__(self, val):\n",
        "        self.val = val\n",
        "        self.prev = None\n",
        "        self.next = None\n",
        "        self.child = None"
      ],
      "metadata": {
        "id": "h6TzQHOjB7my"
      },
      "execution_count": 2,
      "outputs": []
    },
    {
      "cell_type": "code",
      "source": [
        "class Solution:\n",
        "    def flatten(self, head):\n",
        "        if not head:\n",
        "            return head\n",
        "\n",
        "        current = head  # Start at the head of the list\n",
        "\n",
        "        while current:\n",
        "            if not current.child:\n",
        "                current = current.next  # Move to the next node if no child\n",
        "                continue\n",
        "\n",
        "            # If current node has a child, find the tail of the child list\n",
        "            child = current.child\n",
        "            next_node = current.next\n",
        "\n",
        "            # Find the tail of the child list\n",
        "            child_tail = child\n",
        "            while child_tail.next:\n",
        "                child_tail = child_tail.next\n",
        "\n",
        "            # Connect the current node with the child list\n",
        "            current.next = child\n",
        "            child.prev = current\n",
        "            current.child = None  # Remove the child link as it's now part of the main list\n",
        "\n",
        "            # Connect the tail of the child list with the next node\n",
        "            if next_node:\n",
        "                child_tail.next = next_node\n",
        "                next_node.prev = child_tail\n",
        "\n",
        "            current = current.next  # Move to the next node\n",
        "\n",
        "        return head\n"
      ],
      "metadata": {
        "id": "9k7c2QaZCK-r"
      },
      "execution_count": 3,
      "outputs": []
    },
    {
      "cell_type": "code",
      "source": [
        "# Helper function to print the flattened list\n",
        "def print_list(head):\n",
        "    current = head\n",
        "    while current:\n",
        "        print(current.val, end=\" \")\n",
        "        current = current.next\n",
        "    print(\"NULL\")"
      ],
      "metadata": {
        "id": "K-M9BDfCCMX8"
      },
      "execution_count": 4,
      "outputs": []
    },
    {
      "cell_type": "code",
      "source": [
        "# Example usage\n",
        "if __name__ == \"__main__\":\n",
        "    # Creating the example multilevel doubly linked list\n",
        "    head = Node(1)\n",
        "    head.next = Node(2)\n",
        "    head.next.prev = head\n",
        "    head.next.next = Node(3)\n",
        "    head.next.next.prev = head.next\n",
        "    head.next.next.next = Node(4)\n",
        "    head.next.next.next.prev = head.next.next\n",
        "    head.next.next.next.next = Node(5)\n",
        "    head.next.next.next.next.prev = head.next.next.next\n",
        "    head.next.next.next.next.next = Node(6)\n",
        "    head.next.next.next.next.next.prev = head.next.next.next.next\n",
        "\n",
        "    head.next.next.child = Node(7)\n",
        "    head.next.next.child.next = Node(8)\n",
        "    head.next.next.child.next.prev = head.next.next.child\n",
        "    head.next.next.child.next.next = Node(9)\n",
        "    head.next.next.child.next.next.prev = head.next.next.child.next\n",
        "    head.next.next.child.next.next.next = Node(10)\n",
        "    head.next.next.child.next.next.next.prev = head.next.next.child.next.next\n",
        "\n",
        "    head.next.next.child.next.child = Node(11)\n",
        "    head.next.next.child.next.child.next = Node(12)\n",
        "    head.next.next.child.next.child.next.prev = head.next.next.child.next.child\n",
        "\n",
        "    # Flattening the list\n",
        "    sol = Solution()\n",
        "    head = sol.flatten(head)\n",
        "\n",
        "    # Printing the flattened list\n",
        "    print_list(head)"
      ],
      "metadata": {
        "colab": {
          "base_uri": "https://localhost:8080/"
        },
        "id": "z5-WTBrACcKH",
        "outputId": "53f6ca4d-0920-40ce-fcec-13b7848e99ee"
      },
      "execution_count": 5,
      "outputs": [
        {
          "output_type": "stream",
          "name": "stdout",
          "text": [
            "1 2 3 7 8 11 12 9 10 4 5 6 NULL\n"
          ]
        }
      ]
    }
  ]
}