{
  "nbformat": 4,
  "nbformat_minor": 0,
  "metadata": {
    "colab": {
      "provenance": []
    },
    "kernelspec": {
      "name": "python3",
      "display_name": "Python 3"
    },
    "language_info": {
      "name": "python"
    }
  },
  "cells": [
    {
      "cell_type": "code",
      "execution_count": 1,
      "metadata": {
        "colab": {
          "base_uri": "https://localhost:8080/"
        },
        "id": "Sh6dmHeXHuAv",
        "outputId": "62439355-88e1-45d0-b51f-984c7a876d04"
      },
      "outputs": [
        {
          "output_type": "stream",
          "name": "stdout",
          "text": [
            "The winner is friend number 4\n"
          ]
        }
      ],
      "source": [
        "def josephus(n, k):\n",
        "    if n == 1:\n",
        "        return 0\n",
        "    else:\n",
        "        return (josephus(n - 1, k) + k) % n\n",
        "\n",
        "def find_the_winner(n, k):\n",
        "    # Adjust for 1-based indexing\n",
        "    return josephus(n, k) + 1\n",
        "\n",
        "if __name__ == \"__main__\":\n",
        "    n = 7  # Number of friends\n",
        "    k = 3  # Step count\n",
        "    winner = find_the_winner(n, k)\n",
        "    print(f\"The winner is friend number {winner}\")\n"
      ]
    }
  ]
}