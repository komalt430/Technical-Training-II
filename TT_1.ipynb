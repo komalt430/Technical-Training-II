{
  "nbformat": 4,
  "nbformat_minor": 0,
  "metadata": {
    "colab": {
      "provenance": []
    },
    "kernelspec": {
      "name": "python3",
      "display_name": "Python 3"
    },
    "language_info": {
      "name": "python"
    }
  },
  "cells": [
    {
      "cell_type": "markdown",
      "source": [
        "Aim:\n",
        "There are n friends that are playing a game. The friends are sitting in a circle and are numbered from 1 to n in clockwise order. More formally, moving clockwise from the ith friend brings you to the (i+1)th friend for 1 <= i < n, and moving clockwise from the nth friend brings you to the 1st friend."
      ],
      "metadata": {
        "id": "EV-OlemDItXL"
      }
    },
    {
      "cell_type": "markdown",
      "source": [
        "Objective:  In this experiment the basic idea of how array and stack will be used. Given that a group of friends, n, and an integer k for the count, we have to return the winner of the game."
      ],
      "metadata": {
        "id": "ZSjT4iwVI0BM"
      }
    },
    {
      "cell_type": "code",
      "source": [
        "def josephus(n, k):\n",
        "    if n == 1:\n",
        "        return 0\n",
        "    else:\n",
        "        return (josephus(n - 1, k) + k) % n\n",
        "\n",
        "def find_the_winner(n, k):\n",
        "    # Adjust for 1-based indexing\n",
        "    return josephus(n, k) + 1\n",
        "\n",
        "if __name__ == \"__main__\":\n",
        "    n = 7  # Number of friends\n",
        "    k = 3  # Step count\n",
        "    winner = find_the_winner(n, k)\n",
        "    print(f\"The winner is friend number {winner}\")\n"
      ],
      "metadata": {
        "id": "hCYdujnJI7xV",
        "outputId": "d25acdd6-127c-4662-e167-d3d433750d00",
        "colab": {
          "base_uri": "https://localhost:8080/"
        }
      },
      "execution_count": 2,
      "outputs": [
        {
          "output_type": "stream",
          "name": "stdout",
          "text": [
            "The winner is friend number 4\n"
          ]
        }
      ]
    }
  ]
}